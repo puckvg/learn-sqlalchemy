{
 "cells": [
  {
   "cell_type": "markdown",
   "metadata": {},
   "source": [
    "# Tutorial \n",
    "from https://docs.sqlalchemy.org/en/13/core/tutorial.html"
   ]
  },
  {
   "cell_type": "code",
   "execution_count": 1,
   "metadata": {},
   "outputs": [],
   "source": [
    "import sqlalchemy"
   ]
  },
  {
   "cell_type": "code",
   "execution_count": 4,
   "metadata": {},
   "outputs": [],
   "source": [
    "from sqlalchemy import create_engine"
   ]
  },
  {
   "cell_type": "markdown",
   "metadata": {},
   "source": [
    "We use an in-memory SQLite database, which is the easiest way to test things without having a database defined anywhere"
   ]
  },
  {
   "cell_type": "code",
   "execution_count": 3,
   "metadata": {},
   "outputs": [],
   "source": [
    "engine = create_engine(\"sqlite:///:memory\", echo=True)"
   ]
  },
  {
   "cell_type": "markdown",
   "metadata": {},
   "source": [
    "The `echo` flag is a shortcut to setting up SQLAlchemy logging, using python's `logging` module. With it enabled, we'll see all the generated SQL produced.\n",
    "\n",
    "The return value of `create_engine()` is an instance of `Engine` and it represents the core interface to the database, adapted through a dialect that handles the details of the database and DBAPI in use. The SQLite dialect will interpret instructions to python's `sqlite` module.\n",
    "\n",
    "The first time a method like `Engine.execute()` or `Engine.connect()` is called, the `Engine` establishes a real DBAPI connection to the database, used to emit the SQL."
   ]
  },
  {
   "cell_type": "markdown",
   "metadata": {},
   "source": [
    "<b>Dictionary:</b> <i>DBAPI</i> is shorthand for the phrase \"Python Database API Specification\" which is a widely used specification within python to define common usage patterns for database connection packages. \n",
    "SQLAlchemy's `dialect` system is constructed around the operation of DBAPI. \n",
    "\n",
    "For example, the `create_engine()` URL `postgresql+psycopg2://@localhost/test` refers to the `psycopg2` DBAPI/dialect combination, whereas the URL `mysql+mysqldb://@localhost/test` refers to the `MySQL for Python` DBAPI/dialect combination"
   ]
  },
  {
   "cell_type": "markdown",
   "metadata": {},
   "source": [
    "# Defining and creating tables"
   ]
  },
  {
   "cell_type": "markdown",
   "metadata": {},
   "source": [
    "SQL constructs expressions against table columns. In SQLAlchemy, a column is represented by an object called `Column`, and in all cases a `Column` is associated with a `Table`. A collection of `Table` objects and their associated child objects is referred to as <i>database metadata</i>.\n",
    "\n",
    "Here we will explicitly lay out `Table` objects, but SA can \"import\" whole sets of `Table` objects automatically from an existing database (<i>table reflection</i>).\n",
    "\n",
    "We define our tables within a catalog called `MetaData` using the `Table` construct, which resembles regular `SQL CREATE TABLE` statements. \n",
    "\n",
    "We will make two tables, one which represents \"users\" in an application, and another which represents 0 or more \"email addresses\" for each row in the \"users\" table."
   ]
  },
  {
   "cell_type": "code",
   "execution_count": 6,
   "metadata": {},
   "outputs": [],
   "source": [
    "from sqlalchemy import Table, Column, Integer, String, MetaData, ForeignKey"
   ]
  },
  {
   "cell_type": "code",
   "execution_count": 7,
   "metadata": {},
   "outputs": [],
   "source": [
    "metadata = MetaData()"
   ]
  },
  {
   "cell_type": "code",
   "execution_count": 8,
   "metadata": {},
   "outputs": [
    {
     "name": "stdout",
     "output_type": "stream",
     "text": [
      "Help on class Table in module sqlalchemy.sql.schema:\n",
      "\n",
      "class Table(sqlalchemy.sql.base.DialectKWArgs, SchemaItem, sqlalchemy.sql.selectable.TableClause)\n",
      " |  Table(*args, **kw)\n",
      " |  \n",
      " |  Represent a table in a database.\n",
      " |  \n",
      " |  e.g.::\n",
      " |  \n",
      " |      mytable = Table(\"mytable\", metadata,\n",
      " |                      Column('mytable_id', Integer, primary_key=True),\n",
      " |                      Column('value', String(50))\n",
      " |                 )\n",
      " |  \n",
      " |  The :class:`_schema.Table`\n",
      " |  object constructs a unique instance of itself based\n",
      " |  on its name and optional schema name within the given\n",
      " |  :class:`_schema.MetaData` object. Calling the :class:`_schema.Table`\n",
      " |  constructor with the same name and same :class:`_schema.MetaData` argument\n",
      " |  a second time will return the *same* :class:`_schema.Table`\n",
      " |  object - in this way\n",
      " |  the :class:`_schema.Table` constructor acts as a registry function.\n",
      " |  \n",
      " |  .. seealso::\n",
      " |  \n",
      " |      :ref:`metadata_describing` - Introduction to database metadata\n",
      " |  \n",
      " |  Constructor arguments are as follows:\n",
      " |  \n",
      " |  :param name: The name of this table as represented in the database.\n",
      " |  \n",
      " |      The table name, along with the value of the ``schema`` parameter,\n",
      " |      forms a key which uniquely identifies this :class:`_schema.Table`\n",
      " |      within\n",
      " |      the owning :class:`_schema.MetaData` collection.\n",
      " |      Additional calls to :class:`_schema.Table` with the same name,\n",
      " |      metadata,\n",
      " |      and schema name will return the same :class:`_schema.Table` object.\n",
      " |  \n",
      " |      Names which contain no upper case characters\n",
      " |      will be treated as case insensitive names, and will not be quoted\n",
      " |      unless they are a reserved word or contain special characters.\n",
      " |      A name with any number of upper case characters is considered\n",
      " |      to be case sensitive, and will be sent as quoted.\n",
      " |  \n",
      " |      To enable unconditional quoting for the table name, specify the flag\n",
      " |      ``quote=True`` to the constructor, or use the :class:`.quoted_name`\n",
      " |      construct to specify the name.\n",
      " |  \n",
      " |  :param metadata: a :class:`_schema.MetaData`\n",
      " |      object which will contain this\n",
      " |      table.  The metadata is used as a point of association of this table\n",
      " |      with other tables which are referenced via foreign key.  It also\n",
      " |      may be used to associate this table with a particular\n",
      " |      :class:`.Connectable`.\n",
      " |  \n",
      " |  :param \\*args: Additional positional arguments are used primarily\n",
      " |      to add the list of :class:`_schema.Column`\n",
      " |      objects contained within this\n",
      " |      table. Similar to the style of a CREATE TABLE statement, other\n",
      " |      :class:`.SchemaItem` constructs may be added here, including\n",
      " |      :class:`.PrimaryKeyConstraint`, and\n",
      " |      :class:`_schema.ForeignKeyConstraint`.\n",
      " |  \n",
      " |  :param autoload: Defaults to False, unless\n",
      " |      :paramref:`_schema.Table.autoload_with`\n",
      " |      is set in which case it defaults to True; :class:`_schema.Column`\n",
      " |      objects\n",
      " |      for this table should be reflected from the database, possibly\n",
      " |      augmenting or replacing existing :class:`_schema.Column`\n",
      " |      objects that were\n",
      " |      explicitly specified.\n",
      " |  \n",
      " |      .. versionchanged:: 1.0.0 setting the\n",
      " |         :paramref:`_schema.Table.autoload_with`\n",
      " |         parameter implies that :paramref:`_schema.Table.autoload`\n",
      " |         will default\n",
      " |         to True.\n",
      " |  \n",
      " |      .. seealso::\n",
      " |  \n",
      " |          :ref:`metadata_reflection_toplevel`\n",
      " |  \n",
      " |  :param autoload_replace: Defaults to ``True``; when using\n",
      " |      :paramref:`_schema.Table.autoload`\n",
      " |      in conjunction with :paramref:`_schema.Table.extend_existing`,\n",
      " |      indicates\n",
      " |      that :class:`_schema.Column` objects present in the already-existing\n",
      " |      :class:`_schema.Table`\n",
      " |      object should be replaced with columns of the same\n",
      " |      name retrieved from the autoload process.   When ``False``, columns\n",
      " |      already present under existing names will be omitted from the\n",
      " |      reflection process.\n",
      " |  \n",
      " |      Note that this setting does not impact :class:`_schema.Column` objects\n",
      " |      specified programmatically within the call to :class:`_schema.Table`\n",
      " |      that\n",
      " |      also is autoloading; those :class:`_schema.Column` objects will always\n",
      " |      replace existing columns of the same name when\n",
      " |      :paramref:`_schema.Table.extend_existing` is ``True``.\n",
      " |  \n",
      " |      .. seealso::\n",
      " |  \n",
      " |          :paramref:`_schema.Table.autoload`\n",
      " |  \n",
      " |          :paramref:`_schema.Table.extend_existing`\n",
      " |  \n",
      " |  :param autoload_with: An :class:`_engine.Engine` or\n",
      " |      :class:`_engine.Connection` object\n",
      " |      with which this :class:`_schema.Table` object will be reflected; when\n",
      " |      set to a non-None value, it implies that\n",
      " |      :paramref:`_schema.Table.autoload`\n",
      " |      is ``True``.   If left unset, but :paramref:`_schema.Table.autoload`\n",
      " |      is\n",
      " |      explicitly set to ``True``, an autoload operation will attempt to\n",
      " |      proceed by locating an :class:`_engine.Engine` or\n",
      " |      :class:`_engine.Connection` bound\n",
      " |      to the underlying :class:`_schema.MetaData` object.\n",
      " |  \n",
      " |      .. seealso::\n",
      " |  \n",
      " |          :paramref:`_schema.Table.autoload`\n",
      " |  \n",
      " |  :param extend_existing: When ``True``, indicates that if this\n",
      " |      :class:`_schema.Table` is already present in the given\n",
      " |      :class:`_schema.MetaData`,\n",
      " |      apply further arguments within the constructor to the existing\n",
      " |      :class:`_schema.Table`.\n",
      " |  \n",
      " |      If :paramref:`_schema.Table.extend_existing` or\n",
      " |      :paramref:`_schema.Table.keep_existing` are not set,\n",
      " |      and the given name\n",
      " |      of the new :class:`_schema.Table` refers to a :class:`_schema.Table`\n",
      " |      that is\n",
      " |      already present in the target :class:`_schema.MetaData` collection,\n",
      " |      and\n",
      " |      this :class:`_schema.Table`\n",
      " |      specifies additional columns or other constructs\n",
      " |      or flags that modify the table's state, an\n",
      " |      error is raised.  The purpose of these two mutually-exclusive flags\n",
      " |      is to specify what action should be taken when a\n",
      " |      :class:`_schema.Table`\n",
      " |      is specified that matches an existing :class:`_schema.Table`,\n",
      " |      yet specifies\n",
      " |      additional constructs.\n",
      " |  \n",
      " |      :paramref:`_schema.Table.extend_existing`\n",
      " |      will also work in conjunction\n",
      " |      with :paramref:`_schema.Table.autoload` to run a new reflection\n",
      " |      operation against the database, even if a :class:`_schema.Table`\n",
      " |      of the same name is already present in the target\n",
      " |      :class:`_schema.MetaData`; newly reflected :class:`_schema.Column`\n",
      " |      objects\n",
      " |      and other options will be added into the state of the\n",
      " |      :class:`_schema.Table`, potentially overwriting existing columns\n",
      " |      and options of the same name.\n",
      " |  \n",
      " |      As is always the case with :paramref:`_schema.Table.autoload`,\n",
      " |      :class:`_schema.Column` objects can be specified in the same\n",
      " |      :class:`_schema.Table`\n",
      " |      constructor, which will take precedence.  Below, the existing\n",
      " |      table ``mytable`` will be augmented with :class:`_schema.Column`\n",
      " |      objects\n",
      " |      both reflected from the database, as well as the given\n",
      " |      :class:`_schema.Column`\n",
      " |      named \"y\"::\n",
      " |  \n",
      " |          Table(\"mytable\", metadata,\n",
      " |                      Column('y', Integer),\n",
      " |                      extend_existing=True,\n",
      " |                      autoload=True,\n",
      " |                      autoload_with=engine\n",
      " |                  )\n",
      " |  \n",
      " |      .. seealso::\n",
      " |  \n",
      " |          :paramref:`_schema.Table.autoload`\n",
      " |  \n",
      " |          :paramref:`_schema.Table.autoload_replace`\n",
      " |  \n",
      " |          :paramref:`_schema.Table.keep_existing`\n",
      " |  \n",
      " |  \n",
      " |  :param implicit_returning: True by default - indicates that\n",
      " |      RETURNING can be used by default to fetch newly inserted primary key\n",
      " |      values, for backends which support this.  Note that\n",
      " |      :func:`_sa.create_engine` also provides an ``implicit_returning``\n",
      " |      flag.\n",
      " |  \n",
      " |  :param include_columns: A list of strings indicating a subset of\n",
      " |      columns to be loaded via the ``autoload`` operation; table columns who\n",
      " |      aren't present in this list will not be represented on the resulting\n",
      " |      ``Table`` object. Defaults to ``None`` which indicates all columns\n",
      " |      should be reflected.\n",
      " |  \n",
      " |  :param resolve_fks: Whether or not to reflect :class:`_schema.Table`\n",
      " |      objects\n",
      " |      related to this one via :class:`_schema.ForeignKey` objects, when\n",
      " |      :paramref:`_schema.Table.autoload` or\n",
      " |      :paramref:`_schema.Table.autoload_with` is\n",
      " |      specified.   Defaults to True.  Set to False to disable reflection of\n",
      " |      related tables as :class:`_schema.ForeignKey`\n",
      " |      objects are encountered; may be\n",
      " |      used either to save on SQL calls or to avoid issues with related tables\n",
      " |      that can't be accessed. Note that if a related table is already present\n",
      " |      in the :class:`_schema.MetaData` collection, or becomes present later,\n",
      " |      a\n",
      " |      :class:`_schema.ForeignKey` object associated with this\n",
      " |      :class:`_schema.Table` will\n",
      " |      resolve to that table normally.\n",
      " |  \n",
      " |      .. versionadded:: 1.3\n",
      " |  \n",
      " |      .. seealso::\n",
      " |  \n",
      " |          :paramref:`.MetaData.reflect.resolve_fks`\n",
      " |  \n",
      " |  \n",
      " |  :param info: Optional data dictionary which will be populated into the\n",
      " |      :attr:`.SchemaItem.info` attribute of this object.\n",
      " |  \n",
      " |  :param keep_existing: When ``True``, indicates that if this Table\n",
      " |      is already present in the given :class:`_schema.MetaData`, ignore\n",
      " |      further arguments within the constructor to the existing\n",
      " |      :class:`_schema.Table`, and return the :class:`_schema.Table`\n",
      " |      object as\n",
      " |      originally created. This is to allow a function that wishes\n",
      " |      to define a new :class:`_schema.Table` on first call, but on\n",
      " |      subsequent calls will return the same :class:`_schema.Table`,\n",
      " |      without any of the declarations (particularly constraints)\n",
      " |      being applied a second time.\n",
      " |  \n",
      " |      If :paramref:`_schema.Table.extend_existing` or\n",
      " |      :paramref:`_schema.Table.keep_existing` are not set,\n",
      " |      and the given name\n",
      " |      of the new :class:`_schema.Table` refers to a :class:`_schema.Table`\n",
      " |      that is\n",
      " |      already present in the target :class:`_schema.MetaData` collection,\n",
      " |      and\n",
      " |      this :class:`_schema.Table`\n",
      " |      specifies additional columns or other constructs\n",
      " |      or flags that modify the table's state, an\n",
      " |      error is raised.  The purpose of these two mutually-exclusive flags\n",
      " |      is to specify what action should be taken when a\n",
      " |      :class:`_schema.Table`\n",
      " |      is specified that matches an existing :class:`_schema.Table`,\n",
      " |      yet specifies\n",
      " |      additional constructs.\n",
      " |  \n",
      " |      .. seealso::\n",
      " |  \n",
      " |          :paramref:`_schema.Table.extend_existing`\n",
      " |  \n",
      " |  :param listeners: A list of tuples of the form ``(<eventname>, <fn>)``\n",
      " |      which will be passed to :func:`.event.listen` upon construction.\n",
      " |      This alternate hook to :func:`.event.listen` allows the establishment\n",
      " |      of a listener function specific to this :class:`_schema.Table` before\n",
      " |      the \"autoload\" process begins.  Particularly useful for\n",
      " |      the :meth:`.DDLEvents.column_reflect` event::\n",
      " |  \n",
      " |          def listen_for_reflect(table, column_info):\n",
      " |              \"handle the column reflection event\"\n",
      " |              # ...\n",
      " |  \n",
      " |          t = Table(\n",
      " |              'sometable',\n",
      " |              autoload=True,\n",
      " |              listeners=[\n",
      " |                  ('column_reflect', listen_for_reflect)\n",
      " |              ])\n",
      " |  \n",
      " |  :param mustexist: When ``True``, indicates that this Table must already\n",
      " |      be present in the given :class:`_schema.MetaData` collection, else\n",
      " |      an exception is raised.\n",
      " |  \n",
      " |  :param prefixes:\n",
      " |      A list of strings to insert after CREATE in the CREATE TABLE\n",
      " |      statement.  They will be separated by spaces.\n",
      " |  \n",
      " |  :param quote: Force quoting of this table's name on or off, corresponding\n",
      " |      to ``True`` or ``False``.  When left at its default of ``None``,\n",
      " |      the column identifier will be quoted according to whether the name is\n",
      " |      case sensitive (identifiers with at least one upper case character are\n",
      " |      treated as case sensitive), or if it's a reserved word.  This flag\n",
      " |      is only needed to force quoting of a reserved word which is not known\n",
      " |      by the SQLAlchemy dialect.\n",
      " |  \n",
      " |  :param quote_schema: same as 'quote' but applies to the schema identifier.\n",
      " |  \n",
      " |  :param schema: The schema name for this table, which is required if\n",
      " |      the table resides in a schema other than the default selected schema\n",
      " |      for the engine's database connection.  Defaults to ``None``.\n",
      " |  \n",
      " |      If the owning :class:`_schema.MetaData` of this :class:`_schema.Table`\n",
      " |      specifies its\n",
      " |      own :paramref:`_schema.MetaData.schema` parameter,\n",
      " |      then that schema name will\n",
      " |      be applied to this :class:`_schema.Table`\n",
      " |      if the schema parameter here is set\n",
      " |      to ``None``.  To set a blank schema name on a :class:`_schema.Table`\n",
      " |      that\n",
      " |      would otherwise use the schema set on the owning\n",
      " |      :class:`_schema.MetaData`,\n",
      " |      specify the special symbol :attr:`.BLANK_SCHEMA`.\n",
      " |  \n",
      " |      .. versionadded:: 1.0.14  Added the :attr:`.BLANK_SCHEMA` symbol to\n",
      " |         allow a :class:`_schema.Table`\n",
      " |         to have a blank schema name even when the\n",
      " |         parent :class:`_schema.MetaData` specifies\n",
      " |         :paramref:`_schema.MetaData.schema`.\n",
      " |  \n",
      " |      The quoting rules for the schema name are the same as those for the\n",
      " |      ``name`` parameter, in that quoting is applied for reserved words or\n",
      " |      case-sensitive names; to enable unconditional quoting for the schema\n",
      " |      name, specify the flag ``quote_schema=True`` to the constructor, or use\n",
      " |      the :class:`.quoted_name` construct to specify the name.\n",
      " |  \n",
      " |  :param useexisting: the same as :paramref:`_schema.Table.extend_existing`.\n",
      " |  \n",
      " |  :param comment: Optional string that will render an SQL comment on table\n",
      " |       creation.\n",
      " |  \n",
      " |       .. versionadded:: 1.2 Added the :paramref:`_schema.Table.comment`\n",
      " |          parameter\n",
      " |          to :class:`_schema.Table`.\n",
      " |  \n",
      " |  :param \\**kw: Additional keyword arguments not mentioned above are\n",
      " |      dialect specific, and passed in the form ``<dialectname>_<argname>``.\n",
      " |      See the documentation regarding an individual dialect at\n",
      " |      :ref:`dialect_toplevel` for detail on documented arguments.\n",
      " |  \n",
      " |  Method resolution order:\n",
      " |      Table\n",
      " |      sqlalchemy.sql.base.DialectKWArgs\n",
      " |      SchemaItem\n",
      " |      sqlalchemy.sql.base.SchemaEventTarget\n",
      " |      sqlalchemy.sql.selectable.TableClause\n",
      " |      sqlalchemy.sql.base.Immutable\n",
      " |      sqlalchemy.sql.selectable.FromClause\n",
      " |      sqlalchemy.sql.selectable.Selectable\n",
      " |      sqlalchemy.sql.elements.ClauseElement\n",
      " |      sqlalchemy.sql.visitors.Visitable\n",
      " |      builtins.object\n",
      " |  \n",
      " |  Methods defined here:\n",
      " |  \n",
      " |  __init__(self, *args, **kw)\n",
      " |      Constructor for :class:`_schema.Table`.\n",
      " |      \n",
      " |      This method is a no-op.   See the top-level\n",
      " |      documentation for :class:`_schema.Table`\n",
      " |      for constructor arguments.\n",
      " |  \n",
      " |  __repr__(self)\n",
      " |      Return repr(self).\n",
      " |  \n",
      " |  __str__(self)\n",
      " |      Return str(self).\n",
      " |  \n",
      " |  add_is_dependent_on(self, table)\n",
      " |      Add a 'dependency' for this Table.\n",
      " |      \n",
      " |      This is another Table object which must be created\n",
      " |      first before this one can, or dropped after this one.\n",
      " |      \n",
      " |      Usually, dependencies between tables are determined via\n",
      " |      ForeignKey objects.   However, for other situations that\n",
      " |      create dependencies outside of foreign keys (rules, inheriting),\n",
      " |      this method can manually establish such a link.\n",
      " |  \n",
      " |  append_column(self, column)\n",
      " |      Append a :class:`_schema.Column` to this :class:`_schema.Table`.\n",
      " |      \n",
      " |      The \"key\" of the newly added :class:`_schema.Column`, i.e. the\n",
      " |      value of its ``.key`` attribute, will then be available\n",
      " |      in the ``.c`` collection of this :class:`_schema.Table`, and the\n",
      " |      column definition will be included in any CREATE TABLE, SELECT,\n",
      " |      UPDATE, etc. statements generated from this :class:`_schema.Table`\n",
      " |      construct.\n",
      " |      \n",
      " |      Note that this does **not** change the definition of the table\n",
      " |      as it exists within any underlying database, assuming that\n",
      " |      table has already been created in the database.   Relational\n",
      " |      databases support the addition of columns to existing tables\n",
      " |      using the SQL ALTER command, which would need to be\n",
      " |      emitted for an already-existing table that doesn't contain\n",
      " |      the newly added column.\n",
      " |  \n",
      " |  append_constraint(self, constraint)\n",
      " |      Append a :class:`_schema.Constraint` to this\n",
      " |      :class:`_schema.Table`.\n",
      " |      \n",
      " |      This has the effect of the constraint being included in any\n",
      " |      future CREATE TABLE statement, assuming specific DDL creation\n",
      " |      events have not been associated with the given\n",
      " |      :class:`_schema.Constraint` object.\n",
      " |      \n",
      " |      Note that this does **not** produce the constraint within the\n",
      " |      relational database automatically, for a table that already exists\n",
      " |      in the database.   To add a constraint to an\n",
      " |      existing relational database table, the SQL ALTER command must\n",
      " |      be used.  SQLAlchemy also provides the\n",
      " |      :class:`.AddConstraint` construct which can produce this SQL when\n",
      " |      invoked as an executable clause.\n",
      " |  \n",
      " |  append_ddl_listener(self, event_name, listener)\n",
      " |      Append a DDL event listener to this ``Table``.\n",
      " |      \n",
      " |      .. deprecated:: 0.7 the :meth:`_schema.Table.append_ddl_listener` method is deprecated and will be removed in a future release.  Please refer to :class:`.DDLEvents`.\n",
      " |  \n",
      " |  create(self, bind=None, checkfirst=False)\n",
      " |      Issue a ``CREATE`` statement for this\n",
      " |      :class:`_schema.Table`, using the given :class:`.Connectable`\n",
      " |      for connectivity.\n",
      " |      \n",
      " |      .. seealso::\n",
      " |      \n",
      " |          :meth:`_schema.MetaData.create_all`.\n",
      " |  \n",
      " |  drop(self, bind=None, checkfirst=False)\n",
      " |      Issue a ``DROP`` statement for this\n",
      " |      :class:`_schema.Table`, using the given :class:`.Connectable`\n",
      " |      for connectivity.\n",
      " |      \n",
      " |      .. seealso::\n",
      " |      \n",
      " |          :meth:`_schema.MetaData.drop_all`.\n",
      " |  \n",
      " |  exists(self, bind=None)\n",
      " |      Return True if this table exists.\n",
      " |  \n",
      " |  get_children(self, column_collections=True, schema_visitor=False, **kw)\n",
      " |      used to allow SchemaVisitor access\n",
      " |  \n",
      " |  tometadata(self, metadata, schema=symbol('retain_schema'), referred_schema_fn=None, name=None)\n",
      " |      Return a copy of this :class:`_schema.Table`\n",
      " |      associated with a different\n",
      " |      :class:`_schema.MetaData`.\n",
      " |      \n",
      " |      E.g.::\n",
      " |      \n",
      " |          m1 = MetaData()\n",
      " |      \n",
      " |          user = Table('user', m1, Column('id', Integer, primary_key=True))\n",
      " |      \n",
      " |          m2 = MetaData()\n",
      " |          user_copy = user.tometadata(m2)\n",
      " |      \n",
      " |      :param metadata: Target :class:`_schema.MetaData` object,\n",
      " |       into which the\n",
      " |       new :class:`_schema.Table` object will be created.\n",
      " |      \n",
      " |      :param schema: optional string name indicating the target schema.\n",
      " |       Defaults to the special symbol :attr:`.RETAIN_SCHEMA` which indicates\n",
      " |       that no change to the schema name should be made in the new\n",
      " |       :class:`_schema.Table`.  If set to a string name, the new\n",
      " |       :class:`_schema.Table`\n",
      " |       will have this new name as the ``.schema``.  If set to ``None``, the\n",
      " |       schema will be set to that of the schema set on the target\n",
      " |       :class:`_schema.MetaData`, which is typically ``None`` as well,\n",
      " |       unless\n",
      " |       set explicitly::\n",
      " |      \n",
      " |          m2 = MetaData(schema='newschema')\n",
      " |      \n",
      " |          # user_copy_one will have \"newschema\" as the schema name\n",
      " |          user_copy_one = user.tometadata(m2, schema=None)\n",
      " |      \n",
      " |          m3 = MetaData()  # schema defaults to None\n",
      " |      \n",
      " |          # user_copy_two will have None as the schema name\n",
      " |          user_copy_two = user.tometadata(m3, schema=None)\n",
      " |      \n",
      " |      :param referred_schema_fn: optional callable which can be supplied\n",
      " |       in order to provide for the schema name that should be assigned\n",
      " |       to the referenced table of a :class:`_schema.ForeignKeyConstraint`.\n",
      " |       The callable accepts this parent :class:`_schema.Table`, the\n",
      " |       target schema that we are changing to, the\n",
      " |       :class:`_schema.ForeignKeyConstraint` object, and the existing\n",
      " |       \"target schema\" of that constraint.  The function should return the\n",
      " |       string schema name that should be applied.\n",
      " |       E.g.::\n",
      " |      \n",
      " |              def referred_schema_fn(table, to_schema,\n",
      " |                                              constraint, referred_schema):\n",
      " |                  if referred_schema == 'base_tables':\n",
      " |                      return referred_schema\n",
      " |                  else:\n",
      " |                      return to_schema\n",
      " |      \n",
      " |              new_table = table.tometadata(m2, schema=\"alt_schema\",\n",
      " |                                      referred_schema_fn=referred_schema_fn)\n",
      " |      \n",
      " |       .. versionadded:: 0.9.2\n",
      " |      \n",
      " |      :param name: optional string name indicating the target table name.\n",
      " |       If not specified or None, the table name is retained.  This allows\n",
      " |       a :class:`_schema.Table` to be copied to the same\n",
      " |       :class:`_schema.MetaData` target\n",
      " |       with a new name.\n",
      " |      \n",
      " |       .. versionadded:: 1.0.0\n",
      " |  \n",
      " |  ----------------------------------------------------------------------\n",
      " |  Static methods defined here:\n",
      " |  \n",
      " |  __new__(cls, *args, **kw)\n",
      " |  \n",
      " |  ----------------------------------------------------------------------\n",
      " |  Data descriptors defined here:\n",
      " |  \n",
      " |  bind\n",
      " |      Return the connectable associated with this Table.\n",
      " |  \n",
      " |  foreign_key_constraints\n",
      " |      :class:`_schema.ForeignKeyConstraint` objects referred to by this\n",
      " |      :class:`_schema.Table`.\n",
      " |      \n",
      " |      This list is produced from the collection of\n",
      " |      :class:`_schema.ForeignKey`\n",
      " |      objects currently associated.\n",
      " |      \n",
      " |      .. versionadded:: 1.0.0\n",
      " |  \n",
      " |  key\n",
      " |      Return the 'key' for this :class:`_schema.Table`.\n",
      " |      \n",
      " |      This value is used as the dictionary key within the\n",
      " |      :attr:`_schema.MetaData.tables` collection.   It is typically the same\n",
      " |      as that of :attr:`_schema.Table.name` for a table with no\n",
      " |      :attr:`_schema.Table.schema`\n",
      " |      set; otherwise it is typically of the form\n",
      " |      ``schemaname.tablename``.\n",
      " |  \n",
      " |  quote_schema\n",
      " |      Return the value of the ``quote_schema`` flag passed\n",
      " |      to this :class:`_schema.Table`.\n",
      " |      \n",
      " |      .. deprecated:: 0.9 The :meth:`.SchemaItem.quote` method is deprecated and will be removed in a future release.  Use the :attr:`.quoted_name.quote` attribute on the ``schema`` field of the target schema item to retrieve quoted status.\n",
      " |  \n",
      " |  ----------------------------------------------------------------------\n",
      " |  Data and other attributes defined here:\n",
      " |  \n",
      " |  __visit_name__ = 'table'\n",
      " |  \n",
      " |  ----------------------------------------------------------------------\n",
      " |  Methods inherited from sqlalchemy.sql.base.DialectKWArgs:\n",
      " |  \n",
      " |  dialect_kwargs(...)\n",
      " |      A collection of keyword arguments specified as dialect-specific\n",
      " |      options to this construct.\n",
      " |      \n",
      " |      The arguments are present here in their original ``<dialect>_<kwarg>``\n",
      " |      format.  Only arguments that were actually passed are included;\n",
      " |      unlike the :attr:`.DialectKWArgs.dialect_options` collection, which\n",
      " |      contains all options known by this dialect including defaults.\n",
      " |      \n",
      " |      The collection is also writable; keys are accepted of the\n",
      " |      form ``<dialect>_<kwarg>`` where the value will be assembled\n",
      " |      into the list of options.\n",
      " |      \n",
      " |      .. versionadded:: 0.9.2\n",
      " |      \n",
      " |      .. versionchanged:: 0.9.4 The :attr:`.DialectKWArgs.dialect_kwargs`\n",
      " |         collection is now writable.\n",
      " |      \n",
      " |      .. seealso::\n",
      " |      \n",
      " |          :attr:`.DialectKWArgs.dialect_options` - nested dictionary form\n",
      " |  \n",
      " |  dialect_options(...)\n",
      " |      A collection of keyword arguments specified as dialect-specific\n",
      " |      options to this construct.\n",
      " |      \n",
      " |      This is a two-level nested registry, keyed to ``<dialect_name>``\n",
      " |      and ``<argument_name>``.  For example, the ``postgresql_where``\n",
      " |      argument would be locatable as::\n",
      " |      \n",
      " |          arg = my_object.dialect_options['postgresql']['where']\n",
      " |      \n",
      " |      .. versionadded:: 0.9.2\n",
      " |      \n",
      " |      .. seealso::\n",
      " |      \n",
      " |          :attr:`.DialectKWArgs.dialect_kwargs` - flat dictionary form\n",
      " |  \n",
      " |  ----------------------------------------------------------------------\n",
      " |  Class methods inherited from sqlalchemy.sql.base.DialectKWArgs:\n",
      " |  \n",
      " |  argument_for(dialect_name, argument_name, default) from sqlalchemy.sql.visitors.VisitableType\n",
      " |      Add a new kind of dialect-specific keyword argument for this class.\n",
      " |      \n",
      " |      E.g.::\n",
      " |      \n",
      " |          Index.argument_for(\"mydialect\", \"length\", None)\n",
      " |      \n",
      " |          some_index = Index('a', 'b', mydialect_length=5)\n",
      " |      \n",
      " |      The :meth:`.DialectKWArgs.argument_for` method is a per-argument\n",
      " |      way adding extra arguments to the\n",
      " |      :attr:`.DefaultDialect.construct_arguments` dictionary. This\n",
      " |      dictionary provides a list of argument names accepted by various\n",
      " |      schema-level constructs on behalf of a dialect.\n",
      " |      \n",
      " |      New dialects should typically specify this dictionary all at once as a\n",
      " |      data member of the dialect class.  The use case for ad-hoc addition of\n",
      " |      argument names is typically for end-user code that is also using\n",
      " |      a custom compilation scheme which consumes the additional arguments.\n",
      " |      \n",
      " |      :param dialect_name: name of a dialect.  The dialect must be\n",
      " |       locatable, else a :class:`.NoSuchModuleError` is raised.   The\n",
      " |       dialect must also include an existing\n",
      " |       :attr:`.DefaultDialect.construct_arguments` collection, indicating\n",
      " |       that it participates in the keyword-argument validation and default\n",
      " |       system, else :class:`.ArgumentError` is raised.  If the dialect does\n",
      " |       not include this collection, then any keyword argument can be\n",
      " |       specified on behalf of this dialect already.  All dialects packaged\n",
      " |       within SQLAlchemy include this collection, however for third party\n",
      " |       dialects, support may vary.\n",
      " |      \n",
      " |      :param argument_name: name of the parameter.\n",
      " |      \n",
      " |      :param default: default value of the parameter.\n",
      " |      \n",
      " |      .. versionadded:: 0.9.4\n",
      " |  \n",
      " |  ----------------------------------------------------------------------\n",
      " |  Data descriptors inherited from sqlalchemy.sql.base.DialectKWArgs:\n",
      " |  \n",
      " |  __dict__\n",
      " |      dictionary for instance variables (if defined)\n",
      " |  \n",
      " |  __weakref__\n",
      " |      list of weak references to the object (if defined)\n",
      " |  \n",
      " |  kwargs\n",
      " |      A synonym for :attr:`.DialectKWArgs.dialect_kwargs`.\n",
      " |  \n",
      " |  ----------------------------------------------------------------------\n",
      " |  Methods inherited from SchemaItem:\n",
      " |  \n",
      " |  info(...)\n",
      " |      Info dictionary associated with the object, allowing user-defined\n",
      " |      data to be associated with this :class:`.SchemaItem`.\n",
      " |      \n",
      " |      The dictionary is automatically generated when first accessed.\n",
      " |      It can also be specified in the constructor of some objects,\n",
      " |      such as :class:`_schema.Table` and :class:`_schema.Column`.\n",
      " |  \n",
      " |  ----------------------------------------------------------------------\n",
      " |  Data descriptors inherited from SchemaItem:\n",
      " |  \n",
      " |  quote\n",
      " |      Return the value of the ``quote`` flag passed\n",
      " |      to this schema object, for those schema items which\n",
      " |      have a ``name`` field.\n",
      " |      \n",
      " |      .. deprecated:: 0.9 The :attr:`.SchemaItem.quote` attribute is deprecated and will be removed in a future release.  Use the :attr:`.quoted_name.quote` attribute on the ``name`` field of the target schema item to retrievequoted status.\n",
      " |  \n",
      " |  ----------------------------------------------------------------------\n",
      " |  Data and other attributes inherited from sqlalchemy.sql.base.SchemaEventTarget:\n",
      " |  \n",
      " |  dispatch = <sqlalchemy.event.base.DDLEventsDispatch object>\n",
      " |  \n",
      " |  ----------------------------------------------------------------------\n",
      " |  Methods inherited from sqlalchemy.sql.selectable.TableClause:\n",
      " |  \n",
      " |  delete(self, dml, whereclause=None, **kwargs)\n",
      " |      Generate a :func:`_expression.delete` construct against this\n",
      " |      :class:`_expression.TableClause`.\n",
      " |      \n",
      " |      E.g.::\n",
      " |      \n",
      " |          table.delete().where(table.c.id==7)\n",
      " |      \n",
      " |      See :func:`_expression.delete` for argument and usage information.\n",
      " |  \n",
      " |  description(...)\n",
      " |  \n",
      " |  insert(self, dml, values=None, inline=False, **kwargs)\n",
      " |      Generate an :func:`_expression.insert` construct against this\n",
      " |      :class:`_expression.TableClause`.\n",
      " |      \n",
      " |      E.g.::\n",
      " |      \n",
      " |          table.insert().values(name='foo')\n",
      " |      \n",
      " |      See :func:`_expression.insert` for argument and usage information.\n",
      " |  \n",
      " |  update(self, dml, whereclause=None, values=None, inline=False, **kwargs)\n",
      " |      Generate an :func:`_expression.update` construct against this\n",
      " |      :class:`_expression.TableClause`.\n",
      " |      \n",
      " |      E.g.::\n",
      " |      \n",
      " |          table.update().where(table.c.id==7).values(name='foo')\n",
      " |      \n",
      " |      See :func:`_expression.update` for argument and usage information.\n",
      " |  \n",
      " |  ----------------------------------------------------------------------\n",
      " |  Data and other attributes inherited from sqlalchemy.sql.selectable.TableClause:\n",
      " |  \n",
      " |  implicit_returning = False\n",
      " |  \n",
      " |  named_with_column = True\n",
      " |  \n",
      " |  ----------------------------------------------------------------------\n",
      " |  Methods inherited from sqlalchemy.sql.base.Immutable:\n",
      " |  \n",
      " |  params(self, *optionaldict, **kwargs)\n",
      " |  \n",
      " |  unique_params(self, *optionaldict, **kwargs)\n",
      " |  \n",
      " |  ----------------------------------------------------------------------\n",
      " |  Methods inherited from sqlalchemy.sql.selectable.FromClause:\n",
      " |  \n",
      " |  alias(self, name=None, flat=False)\n",
      " |      Return an alias of this :class:`_expression.FromClause`.\n",
      " |      \n",
      " |      E.g.::\n",
      " |      \n",
      " |          a2 = some_table.alias('a2')\n",
      " |      \n",
      " |      The above code creates an :class:`_expression.Alias`\n",
      " |      object which can be used\n",
      " |      as a FROM clause in any SELECT statement.\n",
      " |      \n",
      " |      .. seealso::\n",
      " |      \n",
      " |          :ref:`core_tutorial_aliases`\n",
      " |      \n",
      " |          :func:`_expression.alias`\n",
      " |  \n",
      " |  columns(...)\n",
      " |      A named-based collection of :class:`_expression.ColumnElement`\n",
      " |      objects\n",
      " |      maintained by this :class:`_expression.FromClause`.\n",
      " |      \n",
      " |      The :attr:`.columns`, or :attr:`.c` collection, is the gateway\n",
      " |      to the construction of SQL expressions using table-bound or\n",
      " |      other selectable-bound columns::\n",
      " |      \n",
      " |          select([mytable]).where(mytable.c.somecolumn == 5)\n",
      " |  \n",
      " |  correspond_on_equivalents(self, column, equivalents)\n",
      " |      Return corresponding_column for the given column, or if None\n",
      " |      search for a match in the given dictionary.\n",
      " |  \n",
      " |  corresponding_column(self, column, require_embedded=False)\n",
      " |      Given a :class:`_expression.ColumnElement`, return the exported\n",
      " |      :class:`_expression.ColumnElement` object from this\n",
      " |      :class:`expression.Selectable`\n",
      " |      which corresponds to that original\n",
      " |      :class:`~sqlalchemy.schema.Column` via a common ancestor\n",
      " |      column.\n",
      " |      \n",
      " |      :param column: the target :class:`_expression.ColumnElement`\n",
      " |                    to be matched\n",
      " |      \n",
      " |      :param require_embedded: only return corresponding columns for\n",
      " |       the given :class:`_expression.ColumnElement`, if the given\n",
      " |       :class:`_expression.ColumnElement`\n",
      " |       is actually present within a sub-element\n",
      " |       of this :class:`_expression.FromClause`.\n",
      " |       Normally the column will match if\n",
      " |       it merely shares a common ancestor with one of the exported\n",
      " |       columns of this :class:`_expression.FromClause`.\n",
      " |  \n",
      " |  count(self, functions, whereclause=None, **params)\n",
      " |      Return a SELECT COUNT generated against this\n",
      " |      :class:`_expression.FromClause`.\n",
      " |      \n",
      " |      .. deprecated:: 1.1 The :meth:`.FromClause.count` method is deprecated, and will be removed in a future release.   Please use the :class:`_functions.count` function available from the :attr:`.func` namespace.\n",
      " |      \n",
      " |      .. seealso::\n",
      " |      \n",
      " |          :class:`_functions.count`\n",
      " |  \n",
      " |  foreign_keys(...)\n",
      " |      Return the collection of :class:`_schema.ForeignKey` objects\n",
      " |      which this FromClause references.\n",
      " |  \n",
      " |  is_derived_from(self, fromclause)\n",
      " |      Return ``True`` if this :class:`_expression.FromClause` is\n",
      " |      'derived' from the given ``FromClause``.\n",
      " |      \n",
      " |      An example would be an Alias of a Table is derived from that Table.\n",
      " |  \n",
      " |  join(self, right, onclause=None, isouter=False, full=False)\n",
      " |      Return a :class:`_expression.Join` from this\n",
      " |      :class:`_expression.FromClause` to another\n",
      " |      :class:`_expression.FromClause`.\n",
      " |      \n",
      " |      E.g.::\n",
      " |      \n",
      " |          from sqlalchemy import join\n",
      " |      \n",
      " |          j = user_table.join(address_table,\n",
      " |                          user_table.c.id == address_table.c.user_id)\n",
      " |          stmt = select([user_table]).select_from(j)\n",
      " |      \n",
      " |      would emit SQL along the lines of::\n",
      " |      \n",
      " |          SELECT user.id, user.name FROM user\n",
      " |          JOIN address ON user.id = address.user_id\n",
      " |      \n",
      " |      :param right: the right side of the join; this is any\n",
      " |       :class:`_expression.FromClause` object such as a\n",
      " |       :class:`_schema.Table` object, and\n",
      " |       may also be a selectable-compatible object such as an ORM-mapped\n",
      " |       class.\n",
      " |      \n",
      " |      :param onclause: a SQL expression representing the ON clause of the\n",
      " |       join.  If left at ``None``, :meth:`_expression.FromClause.join`\n",
      " |       will attempt to\n",
      " |       join the two tables based on a foreign key relationship.\n",
      " |      \n",
      " |      :param isouter: if True, render a LEFT OUTER JOIN, instead of JOIN.\n",
      " |      \n",
      " |      :param full: if True, render a FULL OUTER JOIN, instead of LEFT OUTER\n",
      " |       JOIN.  Implies :paramref:`.FromClause.join.isouter`.\n",
      " |      \n",
      " |       .. versionadded:: 1.1\n",
      " |      \n",
      " |      .. seealso::\n",
      " |      \n",
      " |          :func:`_expression.join` - standalone function\n",
      " |      \n",
      " |          :class:`_expression.Join` - the type of object produced\n",
      " |  \n",
      " |  lateral(self, name=None)\n",
      " |      Return a LATERAL alias of this :class:`_expression.FromClause`.\n",
      " |      \n",
      " |      The return value is the :class:`_expression.Lateral` construct also\n",
      " |      provided by the top-level :func:`_expression.lateral` function.\n",
      " |      \n",
      " |      .. versionadded:: 1.1\n",
      " |      \n",
      " |      .. seealso::\n",
      " |      \n",
      " |          :ref:`lateral_selects` -  overview of usage.\n",
      " |  \n",
      " |  outerjoin(self, right, onclause=None, full=False)\n",
      " |      Return a :class:`_expression.Join` from this\n",
      " |      :class:`_expression.FromClause`\n",
      " |      to another :class:`FromClause`, with the \"isouter\" flag set to\n",
      " |      True.\n",
      " |      \n",
      " |      E.g.::\n",
      " |      \n",
      " |          from sqlalchemy import outerjoin\n",
      " |      \n",
      " |          j = user_table.outerjoin(address_table,\n",
      " |                          user_table.c.id == address_table.c.user_id)\n",
      " |      \n",
      " |      The above is equivalent to::\n",
      " |      \n",
      " |          j = user_table.join(\n",
      " |              address_table,\n",
      " |              user_table.c.id == address_table.c.user_id,\n",
      " |              isouter=True)\n",
      " |      \n",
      " |      :param right: the right side of the join; this is any\n",
      " |       :class:`_expression.FromClause` object such as a\n",
      " |       :class:`_schema.Table` object, and\n",
      " |       may also be a selectable-compatible object such as an ORM-mapped\n",
      " |       class.\n",
      " |      \n",
      " |      :param onclause: a SQL expression representing the ON clause of the\n",
      " |       join.  If left at ``None``, :meth:`_expression.FromClause.join`\n",
      " |       will attempt to\n",
      " |       join the two tables based on a foreign key relationship.\n",
      " |      \n",
      " |      :param full: if True, render a FULL OUTER JOIN, instead of\n",
      " |       LEFT OUTER JOIN.\n",
      " |      \n",
      " |       .. versionadded:: 1.1\n",
      " |      \n",
      " |      .. seealso::\n",
      " |      \n",
      " |          :meth:`_expression.FromClause.join`\n",
      " |      \n",
      " |          :class:`_expression.Join`\n",
      " |  \n",
      " |  primary_key(...)\n",
      " |      Return the collection of :class:`_schema.Column` objects\n",
      " |      which comprise the primary key of this FromClause.\n",
      " |  \n",
      " |  replace_selectable(self, sqlutil, old, alias)\n",
      " |      Replace all occurrences of FromClause 'old' with the given Alias\n",
      " |      object, returning a copy of this :class:`_expression.FromClause`.\n",
      " |  \n",
      " |  select(self, whereclause=None, **params)\n",
      " |      Return a SELECT of this :class:`_expression.FromClause`.\n",
      " |      \n",
      " |      .. seealso::\n",
      " |      \n",
      " |          :func:`_expression.select` - general purpose\n",
      " |          method which allows for arbitrary column lists.\n",
      " |  \n",
      " |  tablesample(self, sampling, name=None, seed=None)\n",
      " |      Return a TABLESAMPLE alias of this :class:`_expression.FromClause`.\n",
      " |      \n",
      " |      The return value is the :class:`_expression.TableSample`\n",
      " |      construct also\n",
      " |      provided by the top-level :func:`_expression.tablesample` function.\n",
      " |      \n",
      " |      .. versionadded:: 1.1\n",
      " |      \n",
      " |      .. seealso::\n",
      " |      \n",
      " |          :func:`_expression.tablesample` - usage guidelines and parameters\n",
      " |  \n",
      " |  ----------------------------------------------------------------------\n",
      " |  Data descriptors inherited from sqlalchemy.sql.selectable.FromClause:\n",
      " |  \n",
      " |  c\n",
      " |      An alias for the :attr:`.columns` attribute.\n",
      " |  \n",
      " |  ----------------------------------------------------------------------\n",
      " |  Data and other attributes inherited from sqlalchemy.sql.selectable.FromClause:\n",
      " |  \n",
      " |  schema = None\n",
      " |  \n",
      " |  ----------------------------------------------------------------------\n",
      " |  Data descriptors inherited from sqlalchemy.sql.selectable.Selectable:\n",
      " |  \n",
      " |  selectable\n",
      " |  \n",
      " |  ----------------------------------------------------------------------\n",
      " |  Data and other attributes inherited from sqlalchemy.sql.selectable.Selectable:\n",
      " |  \n",
      " |  is_selectable = True\n",
      " |  \n",
      " |  ----------------------------------------------------------------------\n",
      " |  Methods inherited from sqlalchemy.sql.elements.ClauseElement:\n",
      " |  \n",
      " |  __and__(self, other)\n",
      " |      'and' at the ClauseElement level.\n",
      " |      \n",
      " |      .. deprecated:: 0.9 The :meth:`_expression.ClauseElement.__and__` method is deprecated and will be removed in a future release.   Conjunctions should only be used from a :class:`_expression.ColumnElement` subclass, e.g. :meth:`_expression.ColumnElement.__and__`.\n",
      " |  \n",
      " |  __bool__(self)\n",
      " |  \n",
      " |  __getstate__(self)\n",
      " |  \n",
      " |  __invert__(self)\n",
      " |  \n",
      " |  __nonzero__ = __bool__(self)\n",
      " |  \n",
      " |  __or__(self, other)\n",
      " |      'or' at the ClauseElement level.\n",
      " |      \n",
      " |      .. deprecated:: 0.9 The :meth:`_expression.ClauseElement.__or__` method is deprecated and will be removed in a future release.   Conjunctions should only be used from a :class:`_expression.ColumnElement` subclass, e.g. :meth:`_expression.ColumnElement.__or__`.\n",
      " |  \n",
      " |  compare(self, other, **kw)\n",
      " |      Compare this :class:`_expression.ClauseElement` to\n",
      " |      the given :class:`_expression.ClauseElement`.\n",
      " |      \n",
      " |      Subclasses should override the default behavior, which is a\n",
      " |      straight identity comparison.\n",
      " |      \n",
      " |      \\**kw are arguments consumed by subclass ``compare()`` methods and\n",
      " |      may be used to modify the criteria for comparison\n",
      " |      (see :class:`_expression.ColumnElement`).\n",
      " |  \n",
      " |  compile(self, default, bind=None, dialect=None, **kw)\n",
      " |      Compile this SQL expression.\n",
      " |      \n",
      " |      The return value is a :class:`~.Compiled` object.\n",
      " |      Calling ``str()`` or ``unicode()`` on the returned value will yield a\n",
      " |      string representation of the result. The\n",
      " |      :class:`~.Compiled` object also can return a\n",
      " |      dictionary of bind parameter names and values\n",
      " |      using the ``params`` accessor.\n",
      " |      \n",
      " |      :param bind: An ``Engine`` or ``Connection`` from which a\n",
      " |          ``Compiled`` will be acquired. This argument takes precedence over\n",
      " |          this :class:`_expression.ClauseElement`'s bound engine, if any.\n",
      " |      \n",
      " |      :param column_keys: Used for INSERT and UPDATE statements, a list of\n",
      " |          column names which should be present in the VALUES clause of the\n",
      " |          compiled statement. If ``None``, all columns from the target table\n",
      " |          object are rendered.\n",
      " |      \n",
      " |      :param dialect: A ``Dialect`` instance from which a ``Compiled``\n",
      " |          will be acquired. This argument takes precedence over the `bind`\n",
      " |          argument as well as this :class:`_expression.ClauseElement`\n",
      " |          's bound engine,\n",
      " |          if any.\n",
      " |      \n",
      " |      :param inline: Used for INSERT statements, for a dialect which does\n",
      " |          not support inline retrieval of newly generated primary key\n",
      " |          columns, will force the expression used to create the new primary\n",
      " |          key value to be rendered inline within the INSERT statement's\n",
      " |          VALUES clause. This typically refers to Sequence execution but may\n",
      " |          also refer to any server-side default generation function\n",
      " |          associated with a primary key `Column`.\n",
      " |      \n",
      " |      :param compile_kwargs: optional dictionary of additional parameters\n",
      " |          that will be passed through to the compiler within all \"visit\"\n",
      " |          methods.  This allows any custom flag to be passed through to\n",
      " |          a custom compilation construct, for example.  It is also used\n",
      " |          for the case of passing the ``literal_binds`` flag through::\n",
      " |      \n",
      " |              from sqlalchemy.sql import table, column, select\n",
      " |      \n",
      " |              t = table('t', column('x'))\n",
      " |      \n",
      " |              s = select([t]).where(t.c.x == 5)\n",
      " |      \n",
      " |              print(s.compile(compile_kwargs={\"literal_binds\": True}))\n",
      " |      \n",
      " |          .. versionadded:: 0.9.0\n",
      " |      \n",
      " |      .. seealso::\n",
      " |      \n",
      " |          :ref:`faq_sql_expression_string`\n",
      " |  \n",
      " |  self_group(self, against=None)\n",
      " |      Apply a 'grouping' to this :class:`_expression.ClauseElement`.\n",
      " |      \n",
      " |      This method is overridden by subclasses to return a \"grouping\"\n",
      " |      construct, i.e. parenthesis.   In particular it's used by \"binary\"\n",
      " |      expressions to provide a grouping around themselves when placed into a\n",
      " |      larger expression, as well as by :func:`_expression.select`\n",
      " |      constructs when placed into the FROM clause of another\n",
      " |      :func:`_expression.select`.  (Note that subqueries should be\n",
      " |      normally created using the :meth:`_expression.Select.alias` method,\n",
      " |      as many\n",
      " |      platforms require nested SELECT statements to be named).\n",
      " |      \n",
      " |      As expressions are composed together, the application of\n",
      " |      :meth:`self_group` is automatic - end-user code should never\n",
      " |      need to use this method directly.  Note that SQLAlchemy's\n",
      " |      clause constructs take operator precedence into account -\n",
      " |      so parenthesis might not be needed, for example, in\n",
      " |      an expression like ``x OR (y AND z)`` - AND takes precedence\n",
      " |      over OR.\n",
      " |      \n",
      " |      The base :meth:`self_group` method of\n",
      " |      :class:`_expression.ClauseElement`\n",
      " |      just returns self.\n",
      " |  \n",
      " |  ----------------------------------------------------------------------\n",
      " |  Data and other attributes inherited from sqlalchemy.sql.elements.ClauseElement:\n",
      " |  \n",
      " |  is_clause_element = True\n",
      " |  \n",
      " |  supports_execution = False\n",
      "\n"
     ]
    }
   ],
   "source": [
    "help(Table)"
   ]
  },
  {
   "cell_type": "code",
   "execution_count": 9,
   "metadata": {},
   "outputs": [],
   "source": [
    "users = Table(\n",
    "\"users\", \n",
    "metadata,\n",
    "Column(\"id\", Integer, primary_key=True),\n",
    "Column(\"name\", String),\n",
    "Column(\"fullname\", String))"
   ]
  },
  {
   "cell_type": "code",
   "execution_count": 11,
   "metadata": {},
   "outputs": [],
   "source": [
    "addresses = Table(\n",
    "\"addresses\",\n",
    "metadata, \n",
    "Column(\"id\", Integer, primary_key=True),\n",
    "Column(\"user_id\", None, ForeignKey(\"users.id\")),\n",
    "Column(\"email_address\", String, nullable=False))"
   ]
  },
  {
   "cell_type": "markdown",
   "metadata": {},
   "source": [
    "To tell the `MetaData` we'd like to create our selection of tables inside the SQLite database, we use `create_all()` passing it to the `engine` which points to our database. This will check for the presence of each table first before creating, so it's safe to call multiple times."
   ]
  },
  {
   "cell_type": "code",
   "execution_count": 12,
   "metadata": {},
   "outputs": [
    {
     "name": "stdout",
     "output_type": "stream",
     "text": [
      "2021-02-10 11:54:50,641 INFO sqlalchemy.engine.base.Engine SELECT CAST('test plain returns' AS VARCHAR(60)) AS anon_1\n",
      "2021-02-10 11:54:50,645 INFO sqlalchemy.engine.base.Engine ()\n",
      "2021-02-10 11:54:50,647 INFO sqlalchemy.engine.base.Engine SELECT CAST('test unicode returns' AS VARCHAR(60)) AS anon_1\n",
      "2021-02-10 11:54:50,648 INFO sqlalchemy.engine.base.Engine ()\n",
      "2021-02-10 11:54:50,650 INFO sqlalchemy.engine.base.Engine PRAGMA main.table_info(\"users\")\n",
      "2021-02-10 11:54:50,653 INFO sqlalchemy.engine.base.Engine ()\n",
      "2021-02-10 11:54:50,656 INFO sqlalchemy.engine.base.Engine PRAGMA temp.table_info(\"users\")\n",
      "2021-02-10 11:54:50,658 INFO sqlalchemy.engine.base.Engine ()\n",
      "2021-02-10 11:54:50,659 INFO sqlalchemy.engine.base.Engine PRAGMA main.table_info(\"addresses\")\n",
      "2021-02-10 11:54:50,661 INFO sqlalchemy.engine.base.Engine ()\n",
      "2021-02-10 11:54:50,663 INFO sqlalchemy.engine.base.Engine PRAGMA temp.table_info(\"addresses\")\n",
      "2021-02-10 11:54:50,664 INFO sqlalchemy.engine.base.Engine ()\n",
      "2021-02-10 11:54:50,667 INFO sqlalchemy.engine.base.Engine \n",
      "CREATE TABLE users (\n",
      "\tid INTEGER NOT NULL, \n",
      "\tname VARCHAR, \n",
      "\tfullname VARCHAR, \n",
      "\tPRIMARY KEY (id)\n",
      ")\n",
      "\n",
      "\n",
      "2021-02-10 11:54:50,668 INFO sqlalchemy.engine.base.Engine ()\n",
      "2021-02-10 11:54:50,673 INFO sqlalchemy.engine.base.Engine COMMIT\n",
      "2021-02-10 11:54:50,674 INFO sqlalchemy.engine.base.Engine \n",
      "CREATE TABLE addresses (\n",
      "\tid INTEGER NOT NULL, \n",
      "\tuser_id INTEGER, \n",
      "\temail_address VARCHAR NOT NULL, \n",
      "\tPRIMARY KEY (id), \n",
      "\tFOREIGN KEY(user_id) REFERENCES users (id)\n",
      ")\n",
      "\n",
      "\n",
      "2021-02-10 11:54:50,676 INFO sqlalchemy.engine.base.Engine ()\n",
      "2021-02-10 11:54:50,681 INFO sqlalchemy.engine.base.Engine COMMIT\n"
     ]
    }
   ],
   "source": [
    "metadata.create_all(engine)"
   ]
  },
  {
   "cell_type": "markdown",
   "metadata": {},
   "source": [
    "Here we generated the VARCHAR columns without a length - on SQLite and PostgreSQL this is a valid datatype, but on others, it's not allowed. A \"length\" can be provided to the `String` type as follows:"
   ]
  },
  {
   "cell_type": "code",
   "execution_count": 13,
   "metadata": {
    "scrolled": true
   },
   "outputs": [
    {
     "data": {
      "text/plain": [
       "Column('name', String(length=50), table=None)"
      ]
     },
     "execution_count": 13,
     "metadata": {},
     "output_type": "execute_result"
    }
   ],
   "source": [
    "Column(\"name\", String(50))"
   ]
  },
  {
   "cell_type": "markdown",
   "metadata": {},
   "source": [
    "Firebird and Oracle require sequences to generate new primary key identifiers: "
   ]
  },
  {
   "cell_type": "code",
   "execution_count": 14,
   "metadata": {},
   "outputs": [],
   "source": [
    "from sqlalchemy import Sequence"
   ]
  },
  {
   "cell_type": "code",
   "execution_count": 15,
   "metadata": {},
   "outputs": [
    {
     "data": {
      "text/plain": [
       "Column('id', Integer(), table=None, primary_key=True, nullable=False, default=Sequence('user_id_seq'))"
      ]
     },
     "execution_count": 15,
     "metadata": {},
     "output_type": "execute_result"
    }
   ],
   "source": [
    "Column(\"id\", Integer, Sequence(\"user_id_seq\"), primary_key=True)"
   ]
  },
  {
   "cell_type": "markdown",
   "metadata": {},
   "source": [
    "A full, foolproof `Table` is therefore: \n",
    "```\n",
    "users_max = Table(\"users\", metadata,\n",
    "             Column(\"id\", Integer, Sequence(\"user_id_seq\"),\n",
    "                   primary_key=True),\n",
    "              Column(\"name\", String(50)),\n",
    "              Column(\"fullname\", String(50)),\n",
    "              Column(\"nickname\", String(50))\n",
    "             )\n",
    "```"
   ]
  },
  {
   "cell_type": "markdown",
   "metadata": {},
   "source": [
    "This just illustrates the difference between minimal constructs geared towards in-python usage vs one that will be used to emit CREATE TABLE statements on a set of backends with more stringent requirements."
   ]
  },
  {
   "cell_type": "markdown",
   "metadata": {},
   "source": [
    "# Insert Expressions"
   ]
  },
  {
   "cell_type": "markdown",
   "metadata": {},
   "source": [
    "The first SQL expression we'll create is the `Insert` construct, which represents an INSERT statement. This is typically created relative to its target table: "
   ]
  },
  {
   "cell_type": "code",
   "execution_count": 18,
   "metadata": {},
   "outputs": [],
   "source": [
    "ins = users.insert()"
   ]
  },
  {
   "cell_type": "markdown",
   "metadata": {},
   "source": [
    "To see a sample of the SQL this construct produces, use the `str()` function:"
   ]
  },
  {
   "cell_type": "code",
   "execution_count": 19,
   "metadata": {},
   "outputs": [
    {
     "data": {
      "text/plain": [
       "'INSERT INTO users (id, name, fullname) VALUES (:id, :name, :fullname)'"
      ]
     },
     "execution_count": 19,
     "metadata": {},
     "output_type": "execute_result"
    }
   ],
   "source": [
    "str(ins)"
   ]
  },
  {
   "cell_type": "markdown",
   "metadata": {},
   "source": [
    "Note that the INSERT statement names every column in the `users` table. This can be limited using the `values()` method which establishes the VALUES clause of the INSERT explicitly: "
   ]
  },
  {
   "cell_type": "code",
   "execution_count": 20,
   "metadata": {},
   "outputs": [],
   "source": [
    "ins = users.insert().values(name=\"jack\", fullname=\"Jack Jones\")"
   ]
  },
  {
   "cell_type": "code",
   "execution_count": 21,
   "metadata": {},
   "outputs": [
    {
     "data": {
      "text/plain": [
       "'INSERT INTO users (name, fullname) VALUES (:name, :fullname)'"
      ]
     },
     "execution_count": 21,
     "metadata": {},
     "output_type": "execute_result"
    }
   ],
   "source": [
    "str(ins)"
   ]
  },
  {
   "cell_type": "code",
   "execution_count": 22,
   "metadata": {},
   "outputs": [
    {
     "data": {
      "text/plain": [
       "Table('users', MetaData(bind=None), Column('id', Integer(), table=<users>, primary_key=True, nullable=False), Column('name', String(), table=<users>), Column('fullname', String(), table=<users>), schema=None)"
      ]
     },
     "execution_count": 22,
     "metadata": {},
     "output_type": "execute_result"
    }
   ],
   "source": [
    "users"
   ]
  },
  {
   "cell_type": "markdown",
   "metadata": {},
   "source": [
    "The data we placed in `values` doesn't get rendered into the string - we just get named bind paramters.\n",
    "\n",
    "The data is stored in the `Insert` construct, but only comes out when the data is executed. Since the data consists of literal values, SQLAlchemy automatically generates bind parameters for them.\n",
    "\n",
    "We can look at the data for now by looking at the compiled form of the statement:"
   ]
  },
  {
   "cell_type": "code",
   "execution_count": 24,
   "metadata": {},
   "outputs": [
    {
     "data": {
      "text/plain": [
       "{'name': 'jack', 'fullname': 'Jack Jones'}"
      ]
     },
     "execution_count": 24,
     "metadata": {},
     "output_type": "execute_result"
    }
   ],
   "source": [
    "ins.compile().params"
   ]
  },
  {
   "cell_type": "markdown",
   "metadata": {},
   "source": [
    "# Executing"
   ]
  },
  {
   "cell_type": "markdown",
   "metadata": {},
   "source": [
    "The interesting part of an `Insert` is executing it. We will focus on the most explicit method of executing an SQL construct and later touch on some shortcut ways to do it.\n",
    "\n",
    "The `engine` obj we created is a repository for database connections capable of issuing SQL to the database. To acquire a connection, we will use the `Engine.connect()` method: "
   ]
  },
  {
   "cell_type": "code",
   "execution_count": 25,
   "metadata": {},
   "outputs": [],
   "source": [
    "conn = engine.connect()"
   ]
  },
  {
   "cell_type": "code",
   "execution_count": 26,
   "metadata": {},
   "outputs": [
    {
     "data": {
      "text/plain": [
       "<sqlalchemy.engine.base.Connection at 0x7fe410510550>"
      ]
     },
     "execution_count": 26,
     "metadata": {},
     "output_type": "execute_result"
    }
   ],
   "source": [
    "conn"
   ]
  },
  {
   "cell_type": "markdown",
   "metadata": {},
   "source": [
    "The `Connection` object represents an actively checked out DBAPI connection resource. "
   ]
  },
  {
   "cell_type": "code",
   "execution_count": 27,
   "metadata": {},
   "outputs": [
    {
     "name": "stdout",
     "output_type": "stream",
     "text": [
      "2021-02-10 15:38:10,294 INFO sqlalchemy.engine.base.Engine INSERT INTO users (name, fullname) VALUES (?, ?)\n",
      "2021-02-10 15:38:10,297 INFO sqlalchemy.engine.base.Engine ('jack', 'Jack Jones')\n",
      "2021-02-10 15:38:10,301 INFO sqlalchemy.engine.base.Engine COMMIT\n"
     ]
    }
   ],
   "source": [
    "result = conn.execute(ins)"
   ]
  },
  {
   "cell_type": "markdown",
   "metadata": {},
   "source": [
    "The INSERT statement is now issued to the database. \n",
    "\n",
    "note we did get some question mark bind parameters (?) in the output instead of named parameters. \n",
    "\n",
    "This is because when executed, the `Connection` used the SQLite dialect to help generate the statement, and the statement isn't aware of the dialect. We can view this manually as follows: "
   ]
  },
  {
   "cell_type": "code",
   "execution_count": 28,
   "metadata": {},
   "outputs": [],
   "source": [
    "ins.bind = engine"
   ]
  },
  {
   "cell_type": "code",
   "execution_count": 29,
   "metadata": {},
   "outputs": [
    {
     "data": {
      "text/plain": [
       "'INSERT INTO users (name, fullname) VALUES (?, ?)'"
      ]
     },
     "execution_count": 29,
     "metadata": {},
     "output_type": "execute_result"
    }
   ],
   "source": [
    "str(ins)"
   ]
  },
  {
   "cell_type": "markdown",
   "metadata": {},
   "source": [
    "What about the `result` value we got when we called `execute()`?\n",
    "\n",
    "Because the SQLAlchemy `Connection` obj references a DBAPI connection, the result, known as a `ResultProxy` object is analogous to the DBAPI cursor object. \n",
    "\n",
    "In the case of an INSERT, we can get important info from it, like the primary key values which were generated from our statement: "
   ]
  },
  {
   "cell_type": "code",
   "execution_count": 30,
   "metadata": {},
   "outputs": [
    {
     "data": {
      "text/plain": [
       "[1]"
      ]
     },
     "execution_count": 30,
     "metadata": {},
     "output_type": "execute_result"
    }
   ],
   "source": [
    "result.inserted_primary_key"
   ]
  },
  {
   "cell_type": "markdown",
   "metadata": {},
   "source": [
    "The value of 1 was automatically generated by SQLite because we did not specify the `id` column in our `Insert` statement."
   ]
  },
  {
   "cell_type": "markdown",
   "metadata": {},
   "source": [
    "# Executing Multiple Statements"
   ]
  },
  {
   "cell_type": "markdown",
   "metadata": {},
   "source": [
    "Let's create a generic `Insert` statement in the \"normal\" way:"
   ]
  },
  {
   "cell_type": "code",
   "execution_count": 31,
   "metadata": {},
   "outputs": [],
   "source": [
    "ins = users.insert()"
   ]
  },
  {
   "cell_type": "code",
   "execution_count": 32,
   "metadata": {},
   "outputs": [
    {
     "name": "stdout",
     "output_type": "stream",
     "text": [
      "2021-02-10 15:43:30,610 INFO sqlalchemy.engine.base.Engine INSERT INTO users (id, name, fullname) VALUES (?, ?, ?)\n",
      "2021-02-10 15:43:30,617 INFO sqlalchemy.engine.base.Engine (2, 'wendy', 'Wendy Williams')\n",
      "2021-02-10 15:43:30,623 INFO sqlalchemy.engine.base.Engine COMMIT\n"
     ]
    },
    {
     "data": {
      "text/plain": [
       "<sqlalchemy.engine.result.ResultProxy at 0x7fe4106327d0>"
      ]
     },
     "execution_count": 32,
     "metadata": {},
     "output_type": "execute_result"
    }
   ],
   "source": [
    "conn.execute(ins, id=2, name=\"wendy\", fullname=\"Wendy Williams\")"
   ]
  },
  {
   "cell_type": "markdown",
   "metadata": {},
   "source": [
    "Now execute many by sending in a list of dictionaries containing a set of parameters to be inserted"
   ]
  },
  {
   "cell_type": "code",
   "execution_count": 33,
   "metadata": {},
   "outputs": [
    {
     "name": "stdout",
     "output_type": "stream",
     "text": [
      "2021-02-10 15:45:55,430 INFO sqlalchemy.engine.base.Engine INSERT INTO addresses (user_id, email_address) VALUES (?, ?)\n",
      "2021-02-10 15:45:55,437 INFO sqlalchemy.engine.base.Engine ((1, 'jack@yahoo.com'), (1, 'jack@msn.com'), (2, 'www@www.org'), (2, 'wendy@aol.com'))\n",
      "2021-02-10 15:45:55,450 INFO sqlalchemy.engine.base.Engine COMMIT\n"
     ]
    },
    {
     "data": {
      "text/plain": [
       "<sqlalchemy.engine.result.ResultProxy at 0x7fe410636050>"
      ]
     },
     "execution_count": 33,
     "metadata": {},
     "output_type": "execute_result"
    }
   ],
   "source": [
    "conn.execute(addresses.insert(), [\n",
    "    {\"user_id\":1, \"email_address\":\"jack@yahoo.com\"},\n",
    "    {\"user_id\":1, \"email_address\":\"jack@msn.com\"},\n",
    "    {\"user_id\":2, \"email_address\":\"www@www.org\"},\n",
    "    {\"user_id\":2, \"email_address\":\"wendy@aol.com\"}\n",
    "    \n",
    "])"
   ]
  },
  {
   "cell_type": "markdown",
   "metadata": {},
   "source": [
    "When executing many parameters, the dictionaries must have the same keys - some can't have more/less keys than others because the `Insert` statement is compiled against the first dictionary address in the list assuming the following ones are compatible with that statement"
   ]
  },
  {
   "cell_type": "markdown",
   "metadata": {},
   "source": [
    "# Selecting"
   ]
  },
  {
   "cell_type": "markdown",
   "metadata": {},
   "source": [
    "Now we have inserted some data, let's select it:"
   ]
  },
  {
   "cell_type": "code",
   "execution_count": 34,
   "metadata": {},
   "outputs": [],
   "source": [
    "from sqlalchemy.sql import select"
   ]
  },
  {
   "cell_type": "code",
   "execution_count": 35,
   "metadata": {},
   "outputs": [],
   "source": [
    "s = select([users])"
   ]
  },
  {
   "cell_type": "code",
   "execution_count": 37,
   "metadata": {},
   "outputs": [
    {
     "name": "stdout",
     "output_type": "stream",
     "text": [
      "2021-02-10 15:47:58,874 INFO sqlalchemy.engine.base.Engine SELECT users.id, users.name, users.fullname \n",
      "FROM users\n",
      "2021-02-10 15:47:58,879 INFO sqlalchemy.engine.base.Engine ()\n"
     ]
    }
   ],
   "source": [
    "result = conn.execute(s)"
   ]
  },
  {
   "cell_type": "markdown",
   "metadata": {},
   "source": [
    "The result returned is a `ResultProxy` object, which acts like a DBAPI cursor, including methods like `fetchone()` and `fetchall()`. \n",
    "\n",
    "These methods return row objects which are provided via the `RowProxy` class. \n",
    "\n",
    "The result object can be iterated directly to provide an iterator of `RowProxy` objects: "
   ]
  },
  {
   "cell_type": "code",
   "execution_count": 38,
   "metadata": {},
   "outputs": [
    {
     "name": "stdout",
     "output_type": "stream",
     "text": [
      "(1, 'jack', 'Jack Jones')\n",
      "(2, 'wendy', 'Wendy Williams')\n"
     ]
    }
   ],
   "source": [
    "for row in result:\n",
    "    print(row)"
   ]
  },
  {
   "cell_type": "markdown",
   "metadata": {},
   "source": [
    "Can either retrieve data using string names of columns: "
   ]
  },
  {
   "cell_type": "code",
   "execution_count": 39,
   "metadata": {},
   "outputs": [
    {
     "name": "stdout",
     "output_type": "stream",
     "text": [
      "2021-02-10 15:51:10,235 INFO sqlalchemy.engine.base.Engine SELECT users.id, users.name, users.fullname \n",
      "FROM users\n",
      "2021-02-10 15:51:10,236 INFO sqlalchemy.engine.base.Engine ()\n"
     ]
    }
   ],
   "source": [
    "result = conn.execute(s)"
   ]
  },
  {
   "cell_type": "code",
   "execution_count": 40,
   "metadata": {},
   "outputs": [],
   "source": [
    "row = result.fetchone()"
   ]
  },
  {
   "cell_type": "code",
   "execution_count": 42,
   "metadata": {},
   "outputs": [
    {
     "name": "stdout",
     "output_type": "stream",
     "text": [
      "name: jack fullname: Jack Jones\n"
     ]
    }
   ],
   "source": [
    "print(\"name:\", row[\"name\"], \"fullname:\", row[\"fullname\"])"
   ]
  },
  {
   "cell_type": "markdown",
   "metadata": {},
   "source": [
    "Or using integer indexing:"
   ]
  },
  {
   "cell_type": "code",
   "execution_count": 44,
   "metadata": {},
   "outputs": [
    {
     "name": "stdout",
     "output_type": "stream",
     "text": [
      "name wendy fullname Wendy Williams\n"
     ]
    }
   ],
   "source": [
    "# this is an iterator - goes to next one \n",
    "row = result.fetchone()\n",
    "print(\"name\", row[1], \"fullname\", row[2])"
   ]
  },
  {
   "cell_type": "markdown",
   "metadata": {},
   "source": [
    "Or use the SQL construct that directly corresponds to a particular column as the mapping key - use the column objects selected in our SELECT directly as keys: "
   ]
  },
  {
   "cell_type": "code",
   "execution_count": 45,
   "metadata": {},
   "outputs": [
    {
     "name": "stdout",
     "output_type": "stream",
     "text": [
      "2021-02-10 15:54:17,471 INFO sqlalchemy.engine.base.Engine SELECT users.id, users.name, users.fullname \n",
      "FROM users\n",
      "2021-02-10 15:54:17,480 INFO sqlalchemy.engine.base.Engine ()\n",
      "name: jack fullname Jack Jones\n",
      "name: wendy fullname Wendy Williams\n"
     ]
    }
   ],
   "source": [
    "for row in conn.execute(s):\n",
    "    print('name:', row[users.c.name], \"fullname\", row[users.c.fullname])"
   ]
  },
  {
   "cell_type": "markdown",
   "metadata": {},
   "source": [
    "We can also specify these columns when using SELECT: "
   ]
  },
  {
   "cell_type": "code",
   "execution_count": 46,
   "metadata": {},
   "outputs": [],
   "source": [
    "s = select([users.c.name, users.c.fullname])"
   ]
  },
  {
   "cell_type": "code",
   "execution_count": 47,
   "metadata": {},
   "outputs": [
    {
     "name": "stdout",
     "output_type": "stream",
     "text": [
      "2021-02-10 15:55:47,870 INFO sqlalchemy.engine.base.Engine SELECT users.name, users.fullname \n",
      "FROM users\n",
      "2021-02-10 15:55:47,872 INFO sqlalchemy.engine.base.Engine ()\n"
     ]
    }
   ],
   "source": [
    "result = conn.execute(s)"
   ]
  },
  {
   "cell_type": "code",
   "execution_count": 48,
   "metadata": {},
   "outputs": [
    {
     "name": "stdout",
     "output_type": "stream",
     "text": [
      "('jack', 'Jack Jones')\n",
      "('wendy', 'Wendy Williams')\n"
     ]
    }
   ],
   "source": [
    "for row in result: \n",
    "    print(row)"
   ]
  },
  {
   "cell_type": "code",
   "execution_count": null,
   "metadata": {},
   "outputs": [],
   "source": []
  }
 ],
 "metadata": {
  "kernelspec": {
   "display_name": "Python 3",
   "language": "python",
   "name": "python3"
  },
  "language_info": {
   "codemirror_mode": {
    "name": "ipython",
    "version": 3
   },
   "file_extension": ".py",
   "mimetype": "text/x-python",
   "name": "python",
   "nbconvert_exporter": "python",
   "pygments_lexer": "ipython3",
   "version": "3.7.9"
  }
 },
 "nbformat": 4,
 "nbformat_minor": 4
}
